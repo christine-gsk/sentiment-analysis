{
 "cells": [
  {
   "cell_type": "code",
   "execution_count": 5,
   "metadata": {},
   "outputs": [
    {
     "name": "stdout",
     "output_type": "stream",
     "text": [
      "Requirement already satisfied: textblob in c:\\users\\ca025531\\onedrive - gsk\\documents\\github\\sentiment-analysis\\-\\lib\\site-packages (0.17.1)\n",
      "Requirement already satisfied: nltk>=3.1 in c:\\users\\ca025531\\onedrive - gsk\\documents\\github\\sentiment-analysis\\-\\lib\\site-packages (from textblob) (3.8.1)\n",
      "Requirement already satisfied: regex>=2021.8.3 in c:\\users\\ca025531\\onedrive - gsk\\documents\\github\\sentiment-analysis\\-\\lib\\site-packages (from nltk>=3.1->textblob) (2023.10.3)\n",
      "Requirement already satisfied: click in c:\\users\\ca025531\\onedrive - gsk\\documents\\github\\sentiment-analysis\\-\\lib\\site-packages (from nltk>=3.1->textblob) (8.1.7)\n",
      "Requirement already satisfied: joblib in c:\\users\\ca025531\\onedrive - gsk\\documents\\github\\sentiment-analysis\\-\\lib\\site-packages (from nltk>=3.1->textblob) (1.3.2)\n",
      "Requirement already satisfied: tqdm in c:\\users\\ca025531\\onedrive - gsk\\documents\\github\\sentiment-analysis\\-\\lib\\site-packages (from nltk>=3.1->textblob) (4.66.1)\n",
      "Requirement already satisfied: colorama in c:\\users\\ca025531\\onedrive - gsk\\documents\\github\\sentiment-analysis\\-\\lib\\site-packages (from click->nltk>=3.1->textblob) (0.4.6)\n"
     ]
    },
    {
     "name": "stderr",
     "output_type": "stream",
     "text": [
      "\n",
      "[notice] A new release of pip is available: 23.0.1 -> 23.2.1\n",
      "[notice] To update, run: python.exe -m pip install --upgrade pip\n"
     ]
    }
   ],
   "source": [
    "! pip install textblob"
   ]
  },
  {
   "cell_type": "code",
   "execution_count": 6,
   "metadata": {},
   "outputs": [
    {
     "name": "stderr",
     "output_type": "stream",
     "text": [
      "[nltk_data] Downloading package punkt to\n",
      "[nltk_data]     C:\\Users\\ca025531\\AppData\\Roaming\\nltk_data...\n",
      "[nltk_data]   Package punkt is already up-to-date!\n"
     ]
    },
    {
     "data": {
      "text/plain": [
       "True"
      ]
     },
     "execution_count": 6,
     "metadata": {},
     "output_type": "execute_result"
    }
   ],
   "source": [
    ">>> import nltk\n",
    ">>> nltk.download('punkt')"
   ]
  },
  {
   "cell_type": "code",
   "execution_count": 7,
   "metadata": {},
   "outputs": [
    {
     "name": "stdout",
     "output_type": "stream",
     "text": [
      "BED Sentiment Analysis Results:\n",
      "Barrier: 0 sentences\n",
      "Enabler: 0 sentences\n",
      "Driver: 1 sentences\n"
     ]
    }
   ],
   "source": [
    "from textblob import TextBlob\n",
    "\n",
    "text = \"The high cost of the drug is a Barrier, but the improved standard of care in the absence of corticosteroid overprescription is an Enabler.\"\n",
    "blob = TextBlob(text)\n",
    "\n",
    "# Analyze sentiment\n",
    "sentiments = {\n",
    "    \"Barrier\": 0,\n",
    "    \"Enabler\": 0,\n",
    "    \"Driver\": 0\n",
    "}\n",
    "\n",
    "for sentence in blob.sentences:\n",
    "    polarity = sentence.sentiment.polarity\n",
    "    if polarity > 0:\n",
    "        sentiments[\"Driver\"] += 1\n",
    "    elif polarity < 0:\n",
    "        sentiments[\"Barrier\"] += 1\n",
    "    else:\n",
    "        sentiments[\"Enabler\"] += 1\n",
    "\n",
    "print(\"BED Sentiment Analysis Results:\")\n",
    "for sentiment, count in sentiments.items():\n",
    "    print(f\"{sentiment}: {count} sentences\")\n"
   ]
  }
 ],
 "metadata": {
  "kernelspec": {
   "display_name": "Python 3",
   "language": "python",
   "name": "python3"
  },
  "language_info": {
   "codemirror_mode": {
    "name": "ipython",
    "version": 3
   },
   "file_extension": ".py",
   "mimetype": "text/x-python",
   "name": "python",
   "nbconvert_exporter": "python",
   "pygments_lexer": "ipython3",
   "version": "3.10.11"
  },
  "orig_nbformat": 4
 },
 "nbformat": 4,
 "nbformat_minor": 2
}
